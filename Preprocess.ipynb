{
  "nbformat": 4,
  "nbformat_minor": 0,
  "metadata": {
    "colab": {
      "name": "Preprocess.ipynb",
      "provenance": []
    },
    "kernelspec": {
      "name": "python3",
      "display_name": "Python 3"
    }
  },
  "cells": [
    {
      "cell_type": "code",
      "metadata": {
        "id": "HVUvv3KjT_PP"
      },
      "source": [
        "dict_university = {\n",
        "    'Trường Đại học Bách khoa Hà Nội': 'https://www.google.it/maps/place/Tr%C6%B0%E1%BB%9Dng+%C4%90%E1%BA%A1i+h%E1%BB%8Dc+B%C3%A1ch+khoa+H%C3%A0+N%E1%BB%99i/@21.0056028,105.8347192,15z/data=!3m1!4b1!4m10!1m2!2m1!1suniversity!3m6!1s0x3135ac76ccab6dd7:0x55e92a5b07a97d03!8m2!3d21.005603!4d105.8434525!9m1!1b1',\n",
        "    'Trường Đại học Thăng Long': 'https://www.google.it/maps/place/Tr%C6%B0%E1%BB%9Dng+%C4%90%E1%BA%A1i+h%E1%BB%8Dc+Th%C4%83ng+Long/@20.9758757,105.8068602,15z/data=!4m10!1m2!2m1!1suniversity!3m6!1s0x3135acef8ad5350f:0x89435a3528118ff5!8m2!3d20.9758759!4d105.8155935!9m1!1b1',\n",
        "    'Trường Đại học Ngoại ngữ': 'https://www.google.it/maps/place/ULIS/@21.0392422,105.7730808,15z/data=!4m10!1m2!2m1!1suniversity!3m6!1s0x313454cacd93cc57:0x465a0246eecc8c72!8m2!3d21.0392424!4d105.7818141!9m1!1b1',\n",
        "    'Trường Đại học Giao thông Vận tải': 'https://www.google.it/maps/place/Tr%C6%B0%E1%BB%9Dng+%C4%90%E1%BA%A1i+h%E1%BB%8Dc+Giao+th%C3%B4ng+V%E1%BA%ADn+t%E1%BA%A3i+(UTC)/@21.0281543,105.7946872,15z/data=!3m1!4b1!4m10!1m2!2m1!1suniversity!3m6!1s0x3135ab424a50fff9:0xbe3a7f3670c0a45f!8m2!3d21.0281545!4d105.8034205!9m1!1b1',\n",
        "    'Trường Đại học Kinh Tế Quốc Dân': 'https://www.google.it/maps/place/Tr%C6%B0%E1%BB%9Dng+%C4%90%E1%BA%A1i+H%E1%BB%8Dc+Kinh+T%E1%BA%BF+Qu%E1%BB%91c+D%C3%A2n/@20.9998293,105.8334548,15z/data=!3m1!4b1!4m10!1m2!2m1!1suniversity!3m6!1s0x3135ac71752d8f79:0xd2ec575c01017afa!8m2!3d20.9998295!4d105.8421881!9m1!1b1',\n",
        "    'Trường Đại học Thủy Lợi': 'https://www.google.it/maps/place/Tr%C6%B0%E1%BB%9Dng+%C4%90%E1%BA%A1i+H%E1%BB%8Dc+Th%E1%BB%A7y+L%E1%BB%A3i/@21.0073826,105.8159904,15z/data=!3m1!4b1!4m10!1m2!2m1!1suniversity!3m6!1s0x3135ac8109765ba5:0xd84740ece05680ee!8m2!3d21.0073828!4d105.8247237!9m1!1b1',\n",
        "    'Trường Đại học Thương mại': 'https://www.google.it/maps/place/Tr%C6%B0%E1%BB%9Dng+%C4%90%E1%BA%A1i+h%E1%BB%8Dc+Th%C6%B0%C6%A1ng+m%E1%BA%A1i/@21.0367007,105.7662902,15z/data=!3m1!4b1!4m10!1m2!2m1!1suniversity!3m6!1s0x313454b6163c392f:0x1ebf64facbb56d03!8m2!3d21.0367009!4d105.7750235!9m1!1b1',\n",
        "    'Trường Đại học Khoa học Xã hội và Nhân văn - ĐHQGHN': 'https://www.google.it/maps/place/Tr%C6%B0%E1%BB%9Dng+%C4%90%E1%BA%A1i+h%E1%BB%8Dc+Khoa+h%E1%BB%8Dc+X%C3%A3+h%E1%BB%99i+v%C3%A0+Nh%C3%A2n+v%C4%83n/@20.9951643,105.7984947,15z/data=!3m1!4b1!4m10!1m2!2m1!1suniversity!3m6!1s0x3135ac9642e7777d:0x412403da0c4dd792!8m2!3d20.9951645!4d105.807228!9m1!1b1',\n",
        "    'Trường Đại học Xây Dựng': 'https://www.google.it/maps/place/Tr%C6%B0%E1%BB%9Dng+%C4%90%E1%BA%A1i+H%E1%BB%8Dc+X%C3%A2y+D%E1%BB%B1ng/@21.0033133,105.8345874,15z/data=!3m1!4b1!4m10!1m2!2m1!1suniversity!3m6!1s0x3135ac773026b415:0x499b8b613889f78a!8m2!3d21.0033135!4d105.8433207!9m1!1b1',\n",
        "    'Trường Đại học Ngoại thương Hà Nội': 'https://www.google.it/maps/place/Tr%C6%B0%E1%BB%9Dng+%C4%90%E1%BA%A1i+h%E1%BB%8Dc+Ngo%E1%BA%A1i+th%C6%B0%C6%A1ng+H%C3%A0+N%E1%BB%99i/@21.0230328,105.7967037,15z/data=!3m1!4b1!4m10!1m2!2m1!1suniversity!3m6!1s0x3135ab5d5161f909:0x4dafaf500ce22be3!8m2!3d21.023033!4d105.805437!9m1!1b1',\n",
        "    'Trường Đại học Luật Hà Nội': 'https://www.google.it/maps/place/Tr%C6%B0%E1%BB%9Dng+%C4%90%E1%BA%A1i+h%E1%BB%8Dc+Lu%E1%BA%ADt+H%C3%A0+N%E1%BB%99i/@21.0214655,105.8009416,15z/data=!3m1!4b1!4m10!1m2!2m1!1suniversity!3m6!1s0x3135ab666ac2c3b1:0x8f77b30b5f366910!8m2!3d21.0214657!4d105.8096749!9m1!1b1',\n",
        "    'Trường Đại học Dược Hà Nội': 'https://www.google.it/maps/place/Tr%C6%B0%E1%BB%9Dng+%C4%90%E1%BA%A1i+h%E1%BB%8Dc+D%C6%B0%E1%BB%A3c+H%C3%A0+N%E1%BB%99i/@21.021521,105.8494321,15z/data=!3m1!4b1!4m10!1m2!2m1!1suniversity!3m6!1s0x3135abee82135aa5:0x42bedb896d6f3ce9!8m2!3d21.0215212!4d105.8581654!9m1!1b1',\n",
        "    'Trường Đại học Y Hà Nội': 'https://www.google.it/maps/place/Tr%C6%B0%E1%BB%9Dng+%C4%90%E1%BA%A1i+H%E1%BB%8Dc+Y+H%C3%A0+N%E1%BB%99i/@21.0032312,105.8219591,15z/data=!3m1!4b1!4m10!1m2!2m1!1suniversity!3m6!1s0x3135ac7c33fd6323:0x930d205cf25ff492!8m2!3d21.0032314!4d105.8306924!9m1!1b1',\n",
        "    'Trường Đại học Khoa học Tự nhiên - ĐHQGHN': 'https://www.google.it/maps/place/Tr%C6%B0%E1%BB%9Dng+%C4%90%E1%BA%A1i+h%E1%BB%8Dc+Khoa+h%E1%BB%8Dc+T%E1%BB%B1+nhi%C3%AAn,+%C4%90HQGHN/@20.995872,105.7992439,15z/data=!3m1!4b1!4m10!1m2!2m1!1suniversity!3m6!1s0x3135acbf0df2c0e5:0xd740a66998e1a0ed!8m2!3d20.9958722!4d105.8079772!9m1!1b1',\n",
        "    'Trường Đại Học Kiến Trúc Hà Nội': 'https://www.google.it/maps/place/Tr%C6%B0%E1%BB%9Dng+%C4%90%E1%BA%A1i+H%E1%BB%8Dc+Ki%E1%BA%BFn+Tr%C3%BAc+H%C3%A0+N%E1%BB%99i/@20.9805522,105.7806332,15z/data=!3m1!4b1!4m10!1m2!2m1!1suniversity!3m6!1s0x3135acce43a64245:0xdb176021a520454d!8m2!3d20.9805524!4d105.7893665!9m1!1b1',\n",
        "    'Trường Đại học Sư phạm Hà Nội': 'https://www.google.it/maps/place/HNUE/@21.0374708,105.7746295,15z/data=!3m1!4b1!4m10!1m2!2m1!1suniversity!3m6!1s0x3135ab355cc2239b:0x9ae247114fb38da3!8m2!3d21.037471!4d105.7833628!9m1!1b1',\n",
        "    'Trường Đại học Kinh doanh và Công nghệ Hà Nội': 'https://www.google.it/maps/place/Tr%C6%B0%E1%BB%9Dng+%C4%90%E1%BA%A1i+h%E1%BB%8Dc+Kinh+doanh+v%C3%A0+C%C3%B4ng+ngh%E1%BB%87+H%C3%A0+N%E1%BB%99i/@20.9996914,105.8692895,15z/data=!3m1!4b1!4m10!1m2!2m1!1suniversity!3m6!1s0x3135aeaa17c35b81:0x79d8becf2f06f8dc!8m2!3d20.9996916!4d105.8780228!9m1!1b1',\n",
        "    'Trường Đại học Mỹ thuật Công nghiệp': 'https://www.google.it/maps/place/Tr%C6%B0%E1%BB%9Dng+%C4%90%E1%BA%A1i+h%E1%BB%8Dc+M%E1%BB%B9+thu%E1%BA%ADt+C%C3%B4ng+nghi%E1%BB%87p/@21.0235933,105.8149384,15z/data=!3m1!4b1!4m10!1m2!2m1!1suniversity!3m6!1s0x3135ab79d9e00c97:0xb18bdf08f7889a6!8m2!3d21.0235735!4d105.8236717!9m1!1b1',\n",
        "    'Trường Đại học Công nghiệp Hà Nội': 'https://www.google.it/maps/place/Tr%C6%B0%E1%BB%9Dng+%C4%90%E1%BA%A1i+h%E1%BB%8Dc+C%C3%B4ng+nghi%E1%BB%87p+H%C3%A0+N%E1%BB%99i/@21.0544692,105.7264087,15z/data=!3m1!4b1!4m10!1m2!2m1!1suniversity!3m6!1s0x31345457e292d5bf:0x20ac91c94d74439a!8m2!3d21.0544494!4d105.735142!9m1!1b1',\n",
        "    'Trường Đại học Sân khấu Điện ảnh Hà Nội': 'https://www.google.it/maps/place/Tr%C6%B0%E1%BB%9Dng+%C4%90%E1%BA%A1i+h%E1%BB%8Dc+S%C3%A2n+kh%E1%BA%A5u+%C4%90i%E1%BB%87n+%E1%BA%A3nh+H%C3%A0+N%E1%BB%99i/@21.0400206,105.7671644,15z/data=!4m10!1m2!2m1!1suniversity!3m6!1s0x313454c99118ed37:0x47ae4d512aa9200b!8m2!3d21.0400008!4d105.7758977!9m1!1b1',\n",
        "    'Trường Đại học Hà Nội': 'https://www.google.it/maps/place/Tr%C6%B0%E1%BB%9Dng+%C4%90%E1%BA%A1i+h%E1%BB%8Dc+H%C3%A0+N%E1%BB%99i/@20.9892627,105.7866204,15z/data=!3m1!4b1!4m10!1m2!2m1!1suniversity!3m6!1s0x3135adb29ed54487:0xbe22035eae87b5d7!8m2!3d20.9892429!4d105.7953537!9m1!1b1',\n",
        "    'Học viện Báo chí & Tuyên truyền': 'https://www.google.it/maps/place/H%E1%BB%8Dc+vi%E1%BB%87n+B%C3%A1o+ch%C3%AD+%26+Tuy%C3%AAn+truy%E1%BB%81n/@21.037143,105.7801806,15z/data=!3m1!4b1!4m10!1m2!2m1!1suniversity!3m6!1s0x3135ab3613967dbf:0x3e1ad0c809d813b7!8m2!3d21.0371232!4d105.7889139!9m1!1b1',\n",
        "    'Học viện Ngân hàng': 'https://www.google.it/maps/place/H%E1%BB%8Dc+vi%E1%BB%87n+Ng%C3%A2n+h%C3%A0ng/@21.008772,105.8198572,15z/data=!3m1!4b1!4m10!1m2!2m1!1suniversity!3m6!1s0x3135ac800f450807:0x419a49bcd94b693a!8m2!3d21.0087522!4d105.8285905!9m1!1b1',\n",
        "    'Trường Đại học Công nghệ - ĐHQGHN': 'https://www.google.it/maps/place/Tr%C6%B0%E1%BB%9Dng+%C4%90%E1%BA%A1i+h%E1%BB%8Dc+C%C3%B4ng+ngh%E1%BB%87,+%C4%90%E1%BA%A1i+h%E1%BB%8Dc+Qu%E1%BB%91c+gia+H%C3%A0+N%E1%BB%99i/@21.0382573,105.7739743,15z/data=!3m1!4b1!4m10!1m2!2m1!1zxJFhzKNpIGhvzKNj!3m6!1s0x3135ab354920c233:0x5d0313a3bfdc4f37!8m2!3d21.0382375!4d105.7827076!9m1!1b1',\n",
        "    'Trường Đại học FPT': 'https://www.google.it/maps/place/Tr%C6%B0%E1%BB%9Dng+%C4%90%E1%BA%A1i+H%E1%BB%8Dc+FPT/@21.0132698,105.518331,15z/data=!3m1!4b1!4m7!3m6!1s0x31345b465a4e65fb:0xaae6040cfabe8fe!8m2!3d21.01325!4d105.5270643!9m1!1b1',\n",
        "    'Học viện Ngoại giao': 'https://www.google.it/maps/place/H%E1%BB%8Dc+vi%E1%BB%87n+Ngo%E1%BA%A1i+giao/@21.0229891,105.8043203,17z/data=!4m10!1m2!2m1!1zaG_Mo2MgdmnDqsyjbg!3m6!1s0x3135ab662a9c636d:0x24f4e1bf14505b3c!8m2!3d21.0229841!4d105.806509!9m1!1b1',\n",
        "    'Học Viện Kỹ Thuật Mật Mã': 'https://www.google.it/maps/place/H%E1%BB%8Dc+Vi%E1%BB%87n+K%E1%BB%B9+Thu%E1%BA%ADt+M%E1%BA%ADt+M%C3%A3/@20.9808164,105.7940398,17z/data=!3m1!4b1!4m10!1m2!2m1!1zaG_Mo2MgdmnDqsyjbg!3m6!1s0x3135acc508f938fd:0x883e474806a2d1f2!8m2!3d20.9808114!4d105.7962285!9m1!1b1',\n",
        "    'Học Viện An ninh Nhân Dân': 'https://www.google.it/maps/place/H%E1%BB%8Dc+Vi%E1%BB%87n+An+ninh+Nh%C3%A2n+D%C3%A2n/@20.981876,105.7893306,17z/data=!3m1!4b1!4m10!1m2!2m1!1zaG_Mo2MgdmnDqsyjbg!3m6!1s0x3135accf04011535:0xa93dfa61fb043aaf!8m2!3d20.981871!4d105.7915193!9m1!1b1',\n",
        "    'Học viện Báo chí & Tuyên truyền': 'https://www.google.it/maps/place/H%E1%BB%8Dc+vi%E1%BB%87n+B%C3%A1o+ch%C3%AD+%26+Tuy%C3%AAn+truy%E1%BB%81n/@21.0371282,105.7867252,17z/data=!3m1!4b1!4m10!1m2!2m1!1zaG_Mo2MgdmnDqsyjbg!3m6!1s0x3135ab3613967dbf:0x3e1ad0c809d813b7!8m2!3d21.0371232!4d105.7889139!9m1!1b1',\n",
        "    'Học Viện Âm Nhạc Quốc Gia Việt Nam': 'https://www.google.it/maps/place/H%E1%BB%8Dc+Vi%E1%BB%87n+%C3%82m+Nh%E1%BA%A1c+Qu%E1%BB%91c+Gia+Vi%E1%BB%87t+Nam/@21.0231236,105.8238819,17z/data=!3m1!4b1!4m10!1m2!2m1!1zaG_Mo2MgdmnDqsyjbg!3m6!1s0x3135ab77a0080205:0x5b451235586cb204!8m2!3d21.0231186!4d105.8260706!9m1!1b1',\n",
        "    'Học Viện Tài Chính': 'https://www.google.it/maps/place/H%E1%BB%8Dc+Vi%E1%BB%87n+T%C3%A0i+Ch%C3%ADnh/@21.0754199,105.7705796,17z/data=!4m7!3m6!1s0x3134553054bc3a9b:0x34a690fa7ab05d1e!8m2!3d21.0754149!4d105.7727683!9m1!1b1',\n",
        "    'Học viện Quân y': 'https://www.google.it/maps/place/H%E1%BB%8Dc+vi%E1%BB%87n+Qu%C3%A2n+y/@20.9665631,105.7862487,17z/data=!4m7!3m6!1s0x3135ad29ceae9933:0x2975955fde1ef478!8m2!3d20.9665581!4d105.7884374!9m1!1b1',\n",
        "    'Học Viện Cảnh Sát Nhân Dân': 'https://www.google.it/maps/place/H%E1%BB%8Dc+Vi%E1%BB%87n+C%E1%BA%A3nh+S%C3%A1t+Nh%C3%A2n+D%C3%A2n+-+T32/@21.0662103,105.7618714,17z/data=!4m10!1m2!2m1!1zaOG7jWMgdmnhu4duIGPhuqNuaCBzw6F0!3m6!1s0x3134552147a20d85:0x44b22da812f8a618!8m2!3d21.0662053!4d105.7640601!9m1!1b1'\n",
        "}"
      ],
      "execution_count": null,
      "outputs": []
    },
    {
      "cell_type": "code",
      "metadata": {
        "id": "kewVN_4YUEok",
        "outputId": "3947036b-cf2a-4fc2-d46a-98ff009b4631",
        "colab": {
          "base_uri": "https://localhost:8080/",
          "height": 561
        }
      },
      "source": [
        "list_university = [s.replace('Trường ', '') for s in list(dict_university.keys())]\n",
        "list_university"
      ],
      "execution_count": null,
      "outputs": [
        {
          "output_type": "execute_result",
          "data": {
            "text/plain": [
              "['Đại học Bách khoa Hà Nội',\n",
              " 'Đại học Thăng Long',\n",
              " 'Đại học Ngoại ngữ',\n",
              " 'Đại học Giao thông Vận tải',\n",
              " 'Đại học Kinh Tế Quốc Dân',\n",
              " 'Đại học Thủy Lợi',\n",
              " 'Đại học Thương mại',\n",
              " 'Đại học Khoa học Xã hội và Nhân văn - ĐHQGHN',\n",
              " 'Đại học Xây Dựng',\n",
              " 'Đại học Ngoại thương Hà Nội',\n",
              " 'Đại học Luật Hà Nội',\n",
              " 'Đại học Dược Hà Nội',\n",
              " 'Đại học Y Hà Nội',\n",
              " 'Đại học Khoa học Tự nhiên - ĐHQGHN',\n",
              " 'Đại Học Kiến Trúc Hà Nội',\n",
              " 'Đại học Sư phạm Hà Nội',\n",
              " 'Đại học Kinh doanh và Công nghệ Hà Nội',\n",
              " 'Đại học Mỹ thuật Công nghiệp',\n",
              " 'Đại học Công nghiệp Hà Nội',\n",
              " 'Đại học Sân khấu Điện ảnh Hà Nội',\n",
              " 'Đại học Hà Nội',\n",
              " 'Học viện Báo chí & Tuyên truyền',\n",
              " 'Học viện Ngân hàng',\n",
              " 'Đại học Công nghệ - ĐHQGHN',\n",
              " 'Đại học FPT',\n",
              " 'Học viện Ngoại giao',\n",
              " 'Học Viện Kỹ Thuật Mật Mã',\n",
              " 'Học Viện An ninh Nhân Dân',\n",
              " 'Học Viện Âm Nhạc Quốc Gia Việt Nam',\n",
              " 'Học Viện Tài Chính',\n",
              " 'Học viện Quân y',\n",
              " 'Học Viện Cảnh Sát Nhân Dân']"
            ]
          },
          "metadata": {
            "tags": []
          },
          "execution_count": 2
        }
      ]
    },
    {
      "cell_type": "code",
      "metadata": {
        "id": "S_uzubHHNpdV",
        "outputId": "293837f5-0ad6-4fc9-8083-39949a65b9c9",
        "colab": {
          "base_uri": "https://localhost:8080/",
          "height": 955
        }
      },
      "source": [
        "!pip install langdetect\n",
        "!pip install googletrans"
      ],
      "execution_count": null,
      "outputs": [
        {
          "output_type": "stream",
          "text": [
            "Collecting langdetect\n",
            "\u001b[?25l  Downloading https://files.pythonhosted.org/packages/56/a3/8407c1e62d5980188b4acc45ef3d94b933d14a2ebc9ef3505f22cf772570/langdetect-1.0.8.tar.gz (981kB)\n",
            "\u001b[K     |████████████████████████████████| 983kB 2.9MB/s \n",
            "\u001b[?25hRequirement already satisfied: six in /usr/local/lib/python3.6/dist-packages (from langdetect) (1.15.0)\n",
            "Building wheels for collected packages: langdetect\n",
            "  Building wheel for langdetect (setup.py) ... \u001b[?25l\u001b[?25hdone\n",
            "  Created wheel for langdetect: filename=langdetect-1.0.8-cp36-none-any.whl size=993195 sha256=f2149dfe44ea5aa7177b8e6c675cc98961c2a72774a5e00437ece733aac49dcd\n",
            "  Stored in directory: /root/.cache/pip/wheels/8d/b3/aa/6d99de9f3841d7d3d40a60ea06e6d669e8e5012e6c8b947a57\n",
            "Successfully built langdetect\n",
            "Installing collected packages: langdetect\n",
            "Successfully installed langdetect-1.0.8\n",
            "Collecting googletrans\n",
            "  Downloading https://files.pythonhosted.org/packages/71/3a/3b19effdd4c03958b90f40fe01c93de6d5280e03843cc5adf6956bfc9512/googletrans-3.0.0.tar.gz\n",
            "Collecting httpx==0.13.3\n",
            "\u001b[?25l  Downloading https://files.pythonhosted.org/packages/54/b4/698b284c6aed4d7c2b4fe3ba5df1fcf6093612423797e76fbb24890dd22f/httpx-0.13.3-py3-none-any.whl (55kB)\n",
            "\u001b[K     |████████████████████████████████| 61kB 2.8MB/s \n",
            "\u001b[?25hCollecting sniffio\n",
            "  Downloading https://files.pythonhosted.org/packages/b3/82/4bd4b7d9c0d1dc0fbfbc2a1e00138e7f3ab85bc239358fe9b78aa2ab586d/sniffio-1.1.0-py3-none-any.whl\n",
            "Collecting httpcore==0.9.*\n",
            "\u001b[?25l  Downloading https://files.pythonhosted.org/packages/dd/d5/e4ff9318693ac6101a2095e580908b591838c6f33df8d3ee8dd953ba96a8/httpcore-0.9.1-py3-none-any.whl (42kB)\n",
            "\u001b[K     |████████████████████████████████| 51kB 6.6MB/s \n",
            "\u001b[?25hRequirement already satisfied: idna==2.* in /usr/local/lib/python3.6/dist-packages (from httpx==0.13.3->googletrans) (2.10)\n",
            "Collecting hstspreload\n",
            "\u001b[?25l  Downloading https://files.pythonhosted.org/packages/f0/16/59b51f8e640f16acad2c0e101fa1e55a87bfd80cff23f77ab23cb8927541/hstspreload-2020.10.6-py3-none-any.whl (965kB)\n",
            "\u001b[K     |████████████████████████████████| 972kB 8.7MB/s \n",
            "\u001b[?25hRequirement already satisfied: certifi in /usr/local/lib/python3.6/dist-packages (from httpx==0.13.3->googletrans) (2020.6.20)\n",
            "Collecting rfc3986<2,>=1.3\n",
            "  Downloading https://files.pythonhosted.org/packages/78/be/7b8b99fd74ff5684225f50dd0e865393d2265656ef3b4ba9eaaaffe622b8/rfc3986-1.4.0-py2.py3-none-any.whl\n",
            "Requirement already satisfied: chardet==3.* in /usr/local/lib/python3.6/dist-packages (from httpx==0.13.3->googletrans) (3.0.4)\n",
            "Collecting contextvars>=2.1; python_version < \"3.7\"\n",
            "  Downloading https://files.pythonhosted.org/packages/83/96/55b82d9f13763be9d672622e1b8106c85acb83edd7cc2fa5bc67cd9877e9/contextvars-2.4.tar.gz\n",
            "Collecting h11<0.10,>=0.8\n",
            "\u001b[?25l  Downloading https://files.pythonhosted.org/packages/5a/fd/3dad730b0f95e78aeeb742f96fa7bbecbdd56a58e405d3da440d5bfb90c6/h11-0.9.0-py2.py3-none-any.whl (53kB)\n",
            "\u001b[K     |████████████████████████████████| 61kB 8.2MB/s \n",
            "\u001b[?25hCollecting h2==3.*\n",
            "\u001b[?25l  Downloading https://files.pythonhosted.org/packages/25/de/da019bcc539eeab02f6d45836f23858ac467f584bfec7a526ef200242afe/h2-3.2.0-py2.py3-none-any.whl (65kB)\n",
            "\u001b[K     |████████████████████████████████| 71kB 9.5MB/s \n",
            "\u001b[?25hCollecting immutables>=0.9\n",
            "\u001b[?25l  Downloading https://files.pythonhosted.org/packages/99/e0/ea6fd4697120327d26773b5a84853f897a68e33d3f9376b00a8ff96e4f63/immutables-0.14-cp36-cp36m-manylinux1_x86_64.whl (98kB)\n",
            "\u001b[K     |████████████████████████████████| 102kB 12.4MB/s \n",
            "\u001b[?25hCollecting hpack<4,>=3.0\n",
            "  Downloading https://files.pythonhosted.org/packages/8a/cc/e53517f4a1e13f74776ca93271caef378dadec14d71c61c949d759d3db69/hpack-3.0.0-py2.py3-none-any.whl\n",
            "Collecting hyperframe<6,>=5.2.0\n",
            "  Downloading https://files.pythonhosted.org/packages/19/0c/bf88182bcb5dce3094e2f3e4fe20db28a9928cb7bd5b08024030e4b140db/hyperframe-5.2.0-py2.py3-none-any.whl\n",
            "Building wheels for collected packages: googletrans, contextvars\n",
            "  Building wheel for googletrans (setup.py) ... \u001b[?25l\u001b[?25hdone\n",
            "  Created wheel for googletrans: filename=googletrans-3.0.0-cp36-none-any.whl size=15736 sha256=d06a96e76b48665bf1cf66f087c51acbbabdad2ed55579ba7b457cc480029118\n",
            "  Stored in directory: /root/.cache/pip/wheels/28/1a/a7/eaf4d7a3417a0c65796c547cff4deb6d79c7d14c2abd29273e\n",
            "  Building wheel for contextvars (setup.py) ... \u001b[?25l\u001b[?25hdone\n",
            "  Created wheel for contextvars: filename=contextvars-2.4-cp36-none-any.whl size=7666 sha256=ebb1d15490ab801b869f3fa0d7c6db40c9726e98b1e9caae1161d9317d190d6c\n",
            "  Stored in directory: /root/.cache/pip/wheels/a5/7d/68/1ebae2668bda2228686e3c1cf16f2c2384cea6e9334ad5f6de\n",
            "Successfully built googletrans contextvars\n",
            "Installing collected packages: immutables, contextvars, sniffio, h11, hpack, hyperframe, h2, httpcore, hstspreload, rfc3986, httpx, googletrans\n",
            "Successfully installed contextvars-2.4 googletrans-3.0.0 h11-0.9.0 h2-3.2.0 hpack-3.0.0 hstspreload-2020.10.6 httpcore-0.9.1 httpx-0.13.3 hyperframe-5.2.0 immutables-0.14 rfc3986-1.4.0 sniffio-1.1.0\n"
          ],
          "name": "stdout"
        }
      ]
    },
    {
      "cell_type": "code",
      "metadata": {
        "id": "upiG40VlYflQ",
        "outputId": "84b12bb4-4c8a-44e3-eb16-8bb0ea8781e6",
        "colab": {
          "base_uri": "https://localhost:8080/",
          "height": 34
        }
      },
      "source": [
        "import numpy as np\n",
        "import pandas as pd\n",
        "from google.colab import drive\n",
        "drive.mount('/content/drive')"
      ],
      "execution_count": null,
      "outputs": [
        {
          "output_type": "stream",
          "text": [
            "Mounted at /content/drive\n"
          ],
          "name": "stdout"
        }
      ]
    },
    {
      "cell_type": "code",
      "metadata": {
        "id": "BdHNWRPEZLei",
        "outputId": "a2bf9de5-4e43-4b20-c9eb-c7fb058a4ac9",
        "colab": {
          "base_uri": "https://localhost:8080/",
          "height": 34
        }
      },
      "source": [
        "cd /content/drive/My Drive/Data Analyst/University"
      ],
      "execution_count": null,
      "outputs": [
        {
          "output_type": "stream",
          "text": [
            "/content/drive/My Drive/Data Analyst/University\n"
          ],
          "name": "stdout"
        }
      ]
    },
    {
      "cell_type": "code",
      "metadata": {
        "id": "eFY3WwBtZt4Q",
        "outputId": "9010b929-f438-4f91-9460-4baf7ef46375",
        "colab": {
          "base_uri": "https://localhost:8080/",
          "height": 204
        }
      },
      "source": [
        "uni = pd.read_csv('./university.csv')\n",
        "uni.head()"
      ],
      "execution_count": null,
      "outputs": [
        {
          "output_type": "execute_result",
          "data": {
            "text/html": [
              "<div>\n",
              "<style scoped>\n",
              "    .dataframe tbody tr th:only-of-type {\n",
              "        vertical-align: middle;\n",
              "    }\n",
              "\n",
              "    .dataframe tbody tr th {\n",
              "        vertical-align: top;\n",
              "    }\n",
              "\n",
              "    .dataframe thead th {\n",
              "        text-align: right;\n",
              "    }\n",
              "</style>\n",
              "<table border=\"1\" class=\"dataframe\">\n",
              "  <thead>\n",
              "    <tr style=\"text-align: right;\">\n",
              "      <th></th>\n",
              "      <th>University_name</th>\n",
              "      <th>University_rating</th>\n",
              "      <th>Review</th>\n",
              "      <th>Rating</th>\n",
              "      <th>Time</th>\n",
              "    </tr>\n",
              "  </thead>\n",
              "  <tbody>\n",
              "    <tr>\n",
              "      <th>0</th>\n",
              "      <td>Trường Đại học Bách khoa Hà Nội</td>\n",
              "      <td>4,6</td>\n",
              "      <td>Một chủ nhật đẹp trời tại nơi gắn bó suốt 5 nă...</td>\n",
              "      <td>4 sao</td>\n",
              "      <td>4 ngày trước</td>\n",
              "    </tr>\n",
              "    <tr>\n",
              "      <th>1</th>\n",
              "      <td>Trường Đại học Bách khoa Hà Nội</td>\n",
              "      <td>4,6</td>\n",
              "      <td>Thưa nhà trường,\\n\\nEm, tân sinh viên K65 của ...</td>\n",
              "      <td>1 sao</td>\n",
              "      <td>6 ngày trước</td>\n",
              "    </tr>\n",
              "    <tr>\n",
              "      <th>2</th>\n",
              "      <td>Trường Đại học Bách khoa Hà Nội</td>\n",
              "      <td>4,6</td>\n",
              "      <td>Học phí đắt,cực đắt.Tăng mạnh theo hằng năm.40...</td>\n",
              "      <td>1 sao</td>\n",
              "      <td>một tuần trước</td>\n",
              "    </tr>\n",
              "    <tr>\n",
              "      <th>3</th>\n",
              "      <td>Trường Đại học Bách khoa Hà Nội</td>\n",
              "      <td>4,6</td>\n",
              "      <td>Học phí cao, chương trình đào tạo \" Trời ơi đấ...</td>\n",
              "      <td>1 sao</td>\n",
              "      <td>một tuần trước</td>\n",
              "    </tr>\n",
              "    <tr>\n",
              "      <th>4</th>\n",
              "      <td>Trường Đại học Bách khoa Hà Nội</td>\n",
              "      <td>4,6</td>\n",
              "      <td>Khuân viên rộng rãi sạch đẹp rất nhiều cây xan...</td>\n",
              "      <td>5 sao</td>\n",
              "      <td>2 tháng trước</td>\n",
              "    </tr>\n",
              "  </tbody>\n",
              "</table>\n",
              "</div>"
            ],
            "text/plain": [
              "                   University_name University_rating  ...   Rating            Time\n",
              "0  Trường Đại học Bách khoa Hà Nội               4,6  ...   4 sao     4 ngày trước\n",
              "1  Trường Đại học Bách khoa Hà Nội               4,6  ...   1 sao     6 ngày trước\n",
              "2  Trường Đại học Bách khoa Hà Nội               4,6  ...   1 sao   một tuần trước\n",
              "3  Trường Đại học Bách khoa Hà Nội               4,6  ...   1 sao   một tuần trước\n",
              "4  Trường Đại học Bách khoa Hà Nội               4,6  ...   5 sao    2 tháng trước\n",
              "\n",
              "[5 rows x 5 columns]"
            ]
          },
          "metadata": {
            "tags": []
          },
          "execution_count": 64
        }
      ]
    },
    {
      "cell_type": "code",
      "metadata": {
        "id": "7E4e5ODpZ0GP"
      },
      "source": [
        "# Delete the word \"Trường\" in universities' name\n",
        "for i in range(len(uni)):\n",
        "    if 'Trường ' in uni.loc[i, 'University_name']:\n",
        "         uni.loc[i, 'University_name'] = uni.loc[i, 'University_name'].replace('Trường ', '')"
      ],
      "execution_count": null,
      "outputs": []
    },
    {
      "cell_type": "code",
      "metadata": {
        "id": "ZcO9JrMR9XrG"
      },
      "source": [
        "# Drop the nan values\n",
        "list_drop = []\n",
        "for i in range(len(uni)):\n",
        "    if type(uni.loc[i, 'Review']) == float:\n",
        "         list_drop.append(i)\n",
        "\n",
        "uni.drop(list_drop, inplace=True)\n",
        "uni.reset_index(inplace=True)"
      ],
      "execution_count": null,
      "outputs": []
    },
    {
      "cell_type": "code",
      "metadata": {
        "id": "NhdItgI28g9B"
      },
      "source": [
        "# Drop english translation\n",
        "for i in range(len(uni)):\n",
        "    review = uni.loc[i, 'Review']\n",
        "    if '(Bài đánh giá gốc)' in review:\n",
        "        index = review.index('(Bài đánh giá gốc)')\n",
        "        uni.loc[i, 'Review'] = review[:index]\n",
        "    if '(Bản dịch của Google)' in review:\n",
        "        uni.loc[i, 'Review'] = uni.loc[i, 'Review'][22:]"
      ],
      "execution_count": null,
      "outputs": []
    },
    {
      "cell_type": "code",
      "metadata": {
        "id": "J6IgU-Xi8O8n"
      },
      "source": [
        "# Translate the remaining English review to Vietnamese\n",
        "from langdetect import detect\n",
        "import googletrans\n",
        "from googletrans import Translator\n",
        "translator = Translator()\n",
        "\n",
        "for i in range(len(uni)):\n",
        "    review = uni.loc[i, 'Review']\n",
        "    try:\n",
        "        if detect(review) == 'en':\n",
        "            uni.loc[i, 'Review'] = translator.translate(review, dest='vi').text\n",
        "    except:\n",
        "        pass"
      ],
      "execution_count": null,
      "outputs": []
    },
    {
      "cell_type": "code",
      "metadata": {
        "id": "wB1k-pljhMmf"
      },
      "source": [
        "# Drop the duplicates and introduction PR reviews\n",
        "\n",
        "a_list = []\n",
        "list_uni = ['Đại học Khoa học Xã hội và Nhân văn', 'Đại học Khoa học Tự nhiên', 'Đại học Công nghệ', \n",
        "              'Đại học Thuỷ lợi', 'Đại Học Kiến Trúc', 'Đại học Sân khấu - Điện ảnh Hà Nội', \n",
        "            'Học viện Báo chí và Tuyên truyền', 'Trường ĐH FPT', 'ĐHKHXH&NV', ]\n",
        "\n",
        "for i in range(len(uni)):\n",
        "    if uni.loc[i, 'University_name'].lower() in uni.loc[i, 'Review'].lower() and len(uni.loc[i, 'Review']) > 170:\n",
        "        print(uni.loc[i, 'Review'])\n",
        "        a_list.append(i)\n",
        "    for element in list_uni:\n",
        "        if element.lower() in uni.loc[i, 'Review'].lower() and len(uni.loc[i, 'Review']) > 170:\n",
        "            print(uni.loc[i, 'Review'])\n",
        "            a_list.append(i)\n",
        "\n",
        "uni.drop(a_list, inplace=True)\n",
        "uni.reset_index(inplace=True)\n"
      ],
      "execution_count": null,
      "outputs": []
    },
    {
      "cell_type": "code",
      "metadata": {
        "id": "CF5SWqaJVezE",
        "outputId": "5344beea-9dea-43fc-dcfb-384430ae7b33",
        "colab": {
          "base_uri": "https://localhost:8080/",
          "height": 1000
        }
      },
      "source": [
        "for review in uni['Review'].tolist():\n",
        "    if len(review) > 300 and len(review) < 400:\n",
        "        print(review)\n",
        "        print('---------------------------------------------------------------------')"
      ],
      "execution_count": null,
      "outputs": [
        {
          "output_type": "stream",
          "text": [
            "Mình có 5 năm gắn với Bách Khoa.\n",
            "Đi qua bao kỳ thi, bao mùa đồ án, vất vả nhưng vui.\n",
            "Người ta bảo \"gái Bách Khoa, ma Văn Điển\". Nhưng bây giờ khác rồi. Giờ BK nhiều gái, lại toàn gái xinh :)))\n",
            "Khuôn viên trường xanh mát. Thầy cô tận tình, giàu nhiệt huyết. Các bạn BK ai cũng đáng yêu.\n",
            "1 thời sinh viên đáng nhớ!\n",
            "---------------------------------------------------------------------\n",
            "Là một trường học tuyệt vời, với khuôn viên rộng lớn với những khu vực khác nhau. Cẩn thận bạn có thể bị lạc trong đó. Đùa thui chứ nếu đc học ở đây thì thực sự tuyệt vời, với cơ sở vật chất đầy đủ tiện nghi, đội ngũ giáo viên tận tình, học sinh tuyển vào trường với điểm số cao. Thực sự là một nơi đào tạo nhân tài cho đất nước\n",
            "---------------------------------------------------------------------\n",
            "Đây là ngôi trường mà mình ao ước được theo học khi còn là học sinh cấp 3. Do lực học kém nên mình đại học ở một ngôi trường khác, nhưng mỗi lần đến Bách Khoa lại thấy thân thuộc đến lạ. Hầu hết các anh/chị?em nhà mình đều học ở ngôi trường này. Ai cũng nói trường có truyền thống dạy và học rất tốt\n",
            "#đại_học_bách_khoa_hà_nội\n",
            "---------------------------------------------------------------------\n",
            "Ấn tượng về BK:\n",
            "- Một ngôi trường rất đông các nam sinh viên\n",
            "- Trường rộng vô cùng, có nhiều cây cao cổ thụ, xanh mát, Cũng là trường đại học có nhiều cổng vào nhất\n",
            "- Xung quanh trường có rất nhiều món ăn vặt hấp dẫn nhé: chè tự chọn, ốc KTQD, bánh tráng nướng, bún đậu mắm tôm, cháo lòng, cơm chay, bánh mì sốt vang,....\n",
            "---------------------------------------------------------------------\n",
            "Mỗi khi đi đâu thấy nhắc đến đại học Bách Khoa là mình lại cảm thấy tự hào. Trường nổi tiếng nhiều trai và là động gay lớn nhất cả nước (tự cảm thấy thế). trường đã tôi luyện nên những con người có tính  kiên trì, chịu gian khó và không bị nản lòng mỗi khi bị điểm kém (vì đó alf chuyện bt). Nếu được chọn lại vẫn chọn học BK\n",
            "---------------------------------------------------------------------\n",
            "Xuất thân là một trường dân lập. Nhưng với sự đầu tư đúng đắn và tâm huyết của mình mà trường đại học Thăng Long đa dần khẳng định vị trí và tìm được một chỗ đứng xứng đáng cho mình trong danh sách những trường Đại Học ở Việt Nam\n",
            "Ps: Gái Thăng Long xinh dã man :v\n",
            "---------------------------------------------------------------------\n",
            "hi vọng trường ngày càng đổi mới trong nội dung và phương pháp giáo dục. mình học khóa 2007-2011 thấy có quá nhiều bất cập trong phương pháp giảng dạy và kết quả là ra trường chỉ có kiến thức trên sách vở, không áp dụng được gì nhiều vào thực tế mặc dù đội ngũ giáo viên toàn những bậc có tên tuổi trong ngành Hán học.\n",
            "---------------------------------------------------------------------\n",
            "Ở thời điểm hiện tại, việc giảng dạy cũng như đào tạo tại trường đang dần được cải thiện. Đội ngũ giảng viên đã chú trọng hơn đến kỹ năng thực hành chứ không chỉ đơn thuần là lý thuyết \"suông\". Hy vọng các bạn sinh viên tốt nghiệp từ môi trường này sẽ năng động, tự tin và được trang bị đầy đủ kiến thức hơn.\n",
            "---------------------------------------------------------------------\n",
            "nằm ở 207 giải phóng ngôi trường rất là đẹp nằm ngay trung tâm của hà nội,nằm đối diện với bệnh viện bạch mai .ngôi trường rất thoáng đãng là nơi học tập thật tốt,trường này mỗi năm đào tạo rất nhiều nhân tài cho đất nước.ngôi truòng kinh tế quốc dân đào tạo rất tốt được xếp hạng cao của các trường của việt nam.\n",
            "---------------------------------------------------------------------\n",
            "Luôn đứng trong top đầu những trường Đại Học danh giá ở VIệt Nam. Những cử nhân NEU luôn được đánh giá cao trong mắt của mọi người dù ở VN hay ra ngoài Quốc Tế. Những năm gần đây nếu trong khối về Kinh Tế thì đứng đầu bảng là FTU, còn thứ 2 chắc không ai cạnh  tranh nổi NEU\n",
            "---------------------------------------------------------------------\n",
            "Trường Đại học Kinh tế (tiếng Anh: VNU University of Economics and Business) là một trong những trường đại học công lập ở Việt Nam. Đồng thời, trường cũng là trung tâm nghiên cứu các chính sách kinh tế và quản lý cho chính phủ, và các doanh nghiệp lớn. Trường được tách ra từ Khoa Kinh tế thuộc Đại học Quốc gia Hà Nội.\n",
            "---------------------------------------------------------------------\n",
            "Thủy lợi có tỉ lệ sinh viên ra trường sớm tìm được việc làm trong tóp đầu các trường đại học. Đội  n các thầy cô đầy kinh nghiệm. Chương trình đào tạo đa dạng các ngành. Có chuo2ng trình tiên tiến với nước ngoài. Không gian thoáng đãng trong trường tạo lên môi trường rất tốt cho sinh viên theo học. Và đặc biệt cảnh quan xanh trong ngôi trường luôn có các dấu ấn đặc trưng theo từng mùa\n",
            "---------------------------------------------------------------------\n",
            "Em yêu trường em với bao bạn thân và cô giáo hiền như yêu quê hương, cắp sách đến trường trong muôn vàn yêu thương. Nào bàn nào ghế nào sách nào vở nào mực nào bút nào phấn nào bảng. Cả tiếng chim vui trên cành cây cao, cả lá cờ sao trong nắng thu vàng. Yêu sao yêu thế trường của chúng em =))))))))))))))))))))))\n",
            "---------------------------------------------------------------------\n",
            "Trường rất nhiệt tình, cơ sở vật chất thì rất ok. Đội ngũ thầy cô giáo chất lượng chuyên môn cao. Ngoài ra ngành nghề đào tạo thì đa dạng. giúp sinh viên có thể chọn những ngành phù hợp cho mình.\n",
            "Trong trường thì có cơ sở ký túc xá cho sinh viên, giúp các bạn sinh viên tiết kiệm chi phí hơn.\n",
            "Sinh viên sau khi ra trường hầu như có việc làm phù hợp và không lo chuyện thất nghiệp\n",
            "---------------------------------------------------------------------\n",
            "Đội ngũ giảng viên của nhà trường hiện nay là 588 người, trong đó giảng viên cơ hữu có 3 giáo sư, 46 phó giáo sư, 61 tiến sĩ, 409 thạc sĩ và 69 giáo sư, phó giáo sư thỉnh giảng người nước ngoài. Phần lớn cán bộ, giảng viên nhà trường đã và đang học tập, nghiên cứu tại các nước và vùng lãnh thổ: Nga, Anh, Ấn Độ, Nhật Bản, Pháp, Hoa Kỳ, Đức, Thuỵ Điển, Úc, Thái Lan, Indonesia, Đài Loan\n",
            "---------------------------------------------------------------------\n",
            "Cuộc sống cũng như một cuốn sách. Khi gặp chuyện buồn hãy tự mình bước sang một trang mới chứ đừng gập sách lại.\n",
            "Dần dà trong cuộc đời, mỗi người sẽ phải trả giá một cách đầy đủ cho từng lỗi lầm và từng hành động sai trái của mình, và sẽ được đền đáp một cách xứng đáng cho mọi cố gắng và mọi việc làm tốt đẹp của mình.\n",
            "---------------------------------------------------------------------\n",
            "Đây là nơi tôi đang học. Làm một sinh viên khuyết tật mắt khi tôi vào đây học thì tôi đã được giúp đỡ từ ban dám hiệu cũng như từ cac bạn cùng trường, đặc biệt là clb hoa đá.cái đầu tiên vào trường tôi được dạy là sự thấu cảm. Nên mỗi thành viên trường tôi là một bông hoa, luôn lan toả yêu thương tới khắp nơi. Tôi yêu Nhân Băn\n",
            "---------------------------------------------------------------------\n",
            "Ngôi trường với bề dày lịch sử, các thầy cô tâm huyết hết lòng vì sv. Sv trong trường thì năng động, trẻ trung ,thân thiên, nhiệt huyết, chăm chỉ ...tất cả tạo nên 1 Nhân Văn vô cùng trẻ trung mà cũng rất gần gũi.\n",
            "Dù mới là sv năm nhất nhưng có cảm giác như đã gắn bó rất lâu ở nơi này r, thật sự rất yêu trường ❤❤❤\n",
            "---------------------------------------------------------------------\n",
            "Cái nôi phát triển  những công trình việt.Tiền thân là Khoa Xây dựng của đại học bách khoa từ năm 1956.Đến năm 1966 tách ra thành trường riêng. Đến năm 2017, trường trở thành 1 trong 4 trường đại học đầu tiên của Việt Nam đạt chuẩn quốc tế trong đào tạo và nghiên cứu do Hội đồng cấp cao đánh giá nghiên cứu và giáo dục đại học (HCERES) công nhận.\n",
            "---------------------------------------------------------------------\n",
            "Ngôi trường nơi sinh ra muôn vàn kỹ sư xây dựng. Những con người đang ngày đêm đi xây dựng biết bao công trình khắp mọi miền tổ quốc. Rất mong đội ngũ giảng viên của trường luôn cháy hết mình với tâm huyết của mình để đào tạo lên những con người đi xây tương lai cho đất nước\n",
            "---------------------------------------------------------------------\n",
            "vừa ở đây xong\n",
            "Trường rất đông sinh viên. Ngày xưa lúc đăng kí thi mình cũng chọn XD mà lại k có duyên lắm bởi mình lại đỗ vào ngành không thích lắm. Nhưng lại rất hay sang đây chơi và ăn ốc của kinh tế Uóng rượu chơi game cùng bọn bạn thâu đêm. Mà công nhân quanh trường sv đông nên ban đêm rất vui hehe. Bây giờ bọn bạn ra trường hết rồi nên chắc hết dịp sang đó chơi xuyên đêm rồi.\n",
            "---------------------------------------------------------------------\n",
            "uộc đời của một vị tổng thống không hạnh phúc hơn cuộc đời của một cậu bé đánh giầy. Cuộc đời của một tỷ phú không hạnh phúc hơn cuộc đời của một người ăn mày. Cậu bé đánh giầy hay người ăn mày có những niềm hạnh phúc mà vị tổng thống hay nhà tỷ phú không bao giờ có được. Và ngược lại, vị tổng thống hay nhà tỷ phú có những niềm hạnh phúc mà cậu bé đánh giầy hay người ăn mày không có được.\n",
            "---------------------------------------------------------------------\n",
            "Trường Đại học Ngoại thương là một cơ sở uy tín đào tạo các chương trình ở trình độ thạc sĩ và tiến sĩ. Hâm mộ trường vì đây là lò đào tạo các nhân tài, các hoa hậu. Sinh viên vừa xinh đẹp, vừa giỏi giang.\n",
            "Chưa vào trường bao giờ nhưng có quen một vài người bạn học tại trường này thì thấy công nhận họ giỏi thật.\n",
            "---------------------------------------------------------------------\n",
            "Tuyệt vời. Ngôi trường đào tạo kinh tế hàng đầu Việt Nam. Ở đây sẽ được đào tạo về cả kiến thức lẫn kĩ năng mềm. Bạn nào muốn năng động thì cứ vào đây. Bao tất. Tuy nhiên rất nhiều sinh viên hơi buồn vì trường hơi bé so với các trường khác. Nhưng đấy là 1 niềm vui vì sẽ ko lo bị trễ điểm danh\n",
            "Tuyệt vời...\n",
            "---------------------------------------------------------------------\n",
            "Trường Đại học Ngoại thương (tên tiếng Anh: Foreign Trade University) là một trong những trường đại học có thương hiệu về đào tạo nhóm ngành kinh doanh liên quốc gia tại miền Bắc Việt Nam, đào tạo từ cử nhân cho đến thạc sĩ, tiến sĩ với nhiều loại hình đào tạo. Trường trực thuộc Bộ Giáo dục và Đào tạo.\n",
            "---------------------------------------------------------------------\n",
            "Mùa hè là thời gian tuyệt nhất để bạn lập kế hoạch cho chuyến du lịch nghỉ ngơi thư giãn cùng bạn bè, gia đình sau một thời gian dài vùi đầu với công việc. Vác ba lô lên khám phá cảnh đẹp Việt Nam sẽ giúp bạn quên đi áp lực công việc và những lo toan của cuộc sống. Nếu bạn chưa “hăm he” được địa điểm nào lý tưởng thì hãy tham khảo 7 gợi ý dưới đây nhé!\n",
            "---------------------------------------------------------------------\n",
            "Cám ơn những người thầy. Những người đào tạo ra những lương y. Với lòng yêu nghề và sự hết lòng chăm lo cho sức khỏe của cộng đồng. Mong đội ngũ giảng viên, đội ngũ lương y của trường Đại học Y luôn cháy bỏng với đam mê và cống hiến toàn bộ tinh hoa của mình cho cái nghề cao quý này\n",
            "---------------------------------------------------------------------\n",
            "Đây là trường đại học đào tạo chuyên ngành Y lớn nhất Miền Bắc và là nơi làm việc của nhiều giáo sư đầu ngành về các lĩnh vực Phẫu thuật của Việt Nam.\n",
            "Tại đây, sinh viên có mỗi trường để trau dồi kiến thức và thực tập để có thể nâng cao khả năng trình độ để phù hợp với thực tế khi tham gia công tác tại các bệnh viện trên cả nước.\n",
            "---------------------------------------------------------------------\n",
            "Đại học Quốc gia Hà Nội (tên giao dịch tiếng Anh: Vietnam National University, Hanoi) là một trong hai hệ thống đại học quốc gia của Việt Nam, đặt tại Hà Nội. Đại học Quốc gia Hà Nội tổ chức đào tạo đại học, sau đại học, nghiên cứu và ứng dụng khoa học-công nghệ, đa ngành, đa lĩnh vực, chất lượng cao, giữ vai trò nòng cốt, quan trọng trong hệ thống giáo dục đại học ở Việt Nam.\n",
            "---------------------------------------------------------------------\n",
            "Là ngôi trường Đại học lâu đời nhất Việt Nam. Trường có hệ đào tạo từ cấp 3 hệ chuyên rất tốt. Cháu trai mình có theo học chuyên Lý cấp 3 của trường ĐH tự nhiên này. Mình thực sự hài lòng. Tuy nhiên hệ đại học cần nâng cao tính thực hành và các hoạt động ngoại khóa hơn\n",
            "---------------------------------------------------------------------\n",
            "Mùa hè là thời gian tuyệt nhất để bạn lập kế hoạch cho chuyến du lịch nghỉ ngơi thư giãn cùng bạn bè, gia đình sau một thời gian dài vùi đầu với công việc. Vác ba lô lên khám phá cảnh đẹp Việt Nam sẽ giúp bạn quên đi áp lực công việc và những lo toan của cuộc sống. Nếu bạn chưa “hăm he” được địa điểm nào lý tưởng thì hãy tham khảo 7 gợi ý dưới đây nhé!\n",
            "---------------------------------------------------------------------\n",
            "Trường xây dựng từ lâu ngoại trừ tòa nhà H mới được xây dựng hai năm gần đây, khá cổ kính, tuy nhiên diện tích hơi hẹp và thiếu khoảng không gian cho sinh viên . Đa phần các hoạt động thể chất cần không gian rộng đều phải ra khu Hồ Văn Quán ở bên cạnh.\n",
            "Sân trường thấp hơn mặt đường nên mỗi khi có mưa hay bão là lại ngập lụt khắp sân trường.\n",
            "---------------------------------------------------------------------\n",
            "Học 5 năm trong trường chỉ có một cảm giác duy nhất là lụt, lúc nào cũng lụt, mưa cũng lụt, nắng cũng lụt. Được cái hơi mưa nhỏ 1 tí là trường lại lụt haha. À trang tín chỉ lỗi lên lỗi xuống, mất điểm, mất môn các kiểu. Nhân viên phòng hành chính thì hống hách. Mang tiền đến đập vào mặt mà còn thái độ. đm\n",
            "---------------------------------------------------------------------\n",
            "Không hiểu sao lại chọn ngôi trường này nữa ;) Giờ gắn kết với nó được 4 năm sắp phải xa ngôi trường thân yêu này,giảng viên của trường khá giỏi không kém các trường Bách Khoa ,xây dựng thậm chí giỏi hơn.Không chỉ  giỏi giảng dạy mà giỏi kiếm tiền nữa ^^ lúc nào cũng thấy bận rộn,giá mà sinh viên bận rộn nửa đấy thôi thì lo đếm tiền học bổng thôi.\n",
            "---------------------------------------------------------------------\n",
            "Tôi đã học ở đây suốt 4 năm 1980-1984, những năm khó khăn nhất của đất nước, quãng đời đói khổ nhất nhưng cũng vui và tình nghĩa nhất của chúng tôi. Khoa Toán ngày ấy học vất vả, nhưng chơi còn vất vả hơn. Nhớ tất cả những gì thuộc về nơi này. Hôm nay có việc qua trường, nhìn ký túc xá phơi đầy quần áo chợt nhớ các bạn, nhớ ngày xưa tới nao lòng.\n",
            "---------------------------------------------------------------------\n",
            "Cách đây khoảng 4 năm, vẫn giảng đường ấy, chúng tôi chỉ đơn giản là bạn bè sống xa quê và cùng nhau lên HN học. Thời gian nhanh quá. Những sinh viên báo chí nhưng lại có nhiều kỷ niệm với sư phạm. Ăn trộm xoài, tchuc sinh nhật ở khu thư viện, đi chợ xanh. Thời gian nhanh quá giờ chỉ biết ngồi ngắm lại ảnh và nhớ về nhau thôi.\n",
            "---------------------------------------------------------------------\n",
            "Cơ sở vật chất rất tốt. Thanh niên tình nguyện rất hăng hái nhiệt tình đặc biệt ăn nói rất lễ phép. Phòng ốc của học sinh thì sạch sẽ gọn gàng tiện nghi. Môi trường học ở đây rất tốt. Thầy cô giáo cũng rất hiểu tâm lý học sinh. Tuy nhiên vào mùa tuyể̀n sinh đông đúc thì đường hay bị tắc\n",
            "---------------------------------------------------------------------\n",
            "Là một ngôi trường tốt, thân thiện với mọi người nói chung và học sinh nói riêng. Về mặt Giáo dục thì vẫn luôn đứng top đầu của Giáo dục của Thủ đô Hà Nội, tuy nhiên về Cơ sở Vật chất thì vẫn chưa có điểm nào nổi bật song vẫn có chút trong sự phát triển đổi mới trong ngành Giáo dục Việt Nam.\n",
            "---------------------------------------------------------------------\n",
            "Thi học kỳ không cho tài liệu ôn thi file mềm .Phải ra quán photo gần trường tốn 40k mua tài liệu ôn thi một môn.\n",
            "Chỉ có khoa y và khoa tin được ngồi phòng máy có điều hòa thường xuyên , những khoa  khác thường chỉ được ngồi học quạt trần  .Cả thầy và trò ngồi học xong như mới đi tắm. Trong khi đi qua dãy nhà khoa y mới mở lại mát rượi. Cảm giác như con ghẻ hic\n",
            "---------------------------------------------------------------------\n",
            "Là ngôi trường mình đã theo học 4 năm 2012 - 2016. Khóa 17 :)\n",
            "Nếu bạn đam mê ngoại ngữ, tin học, mỹ thuật ứng dụng, khoa học cùng cơ sở vật chất đầy đủ hiện đại. Dĩ nhiên dàn trai xinh gái đẹp cũng lũ lượt cùng phong trào văn nghệ văn hóa nghệ thuật đa sắc thì chắc chắn HUBT sẽ là ngôi trường lí tưởng dành cho bạn r đấy ❤\n",
            "---------------------------------------------------------------------\n",
            "Phong cách học mới ở Việt Nam\n",
            "Đi đầu trong đổi mới phong cách học\n",
            "Học sinh ra làm tự tin về nghề nghiệp hơn hẳn mọi trường đại học\n",
            "Cơ sở vật chất cực tốt, đào tạo cực hay\n",
            "Nguồn giáo viên vô cùng chất lượng nhớ Giáo sư Trần Phương mời về\n",
            "Thi cử vô cùng tốt nhờ thi qua camera và máy tính\n",
            "Bảo đảm công bằng\n",
            "Đương nhiên những đứa ko học thì vẫn kêu trường dạy khó @@\n",
            "Yêu HUBT\n",
            "---------------------------------------------------------------------\n",
            "Trường Đại Học Kinh Doanh Công Nghệ Hà Nội tự hào đi đầu về việc ứng dụng sử dụng công nghệ thông tin vào học tập và giảng dạy Cơ sở vật chất phục vụ cho hàng ngàn sinh viên với trên 2000 máy tính, thư viện điện tử. Nhà Trường cũng luôn có thành tích lớn khi tham gia các cuộc thi Olympic tin học sinh viên trong nước và quốc tế.\n",
            "---------------------------------------------------------------------\n",
            "Trường xác định sứ mệnh của mình là đào tạo các nhà kinh tế thực hành và các nhà kỹ thuật thực hành, tạo nguồn nhân lực cho việc hình thành một dàn cán bộ chủ chốt của các doanh nghiệp - những \"binh đoàn chủ lực\" trên mặt trận phát triển kinh tế xã hội theo hướng dân giàu, nước mạnh, xã hội công bằng, dân chủ, văn minh.\n",
            "---------------------------------------------------------------------\n",
            "Trường chuyên đào tạo chuyên ngành trang trí ,nội thất ,kiến trúc ,điêu khắc và thời trang,một số môn học khác .Chuyên về su hướng có tính hiện đại mang tính công nghiệp .Về nghệ thuật có nhiều họa sĩ giỏi trưởng thành từ ngôi trường này  .về phương hướng đào tao không giống trường đại học mỹ thuật 42 Yết Kiêu ,mỗi trường đều có cái riêng ưu điểm là đặc thù riẻng trong sáng tác\n",
            "---------------------------------------------------------------------\n",
            "Khuôn viên trường rộng, giảng đường khang trang, trang thiết bị dạy học và nghiên cứu đầy đủ. Thư viện rộng lớn với nhiều đầu sách, là nơi nghiên cứu lý, học tập lý tưởng cho các bạn sinh viên. Ký túc xá rộng rãi, thoáng mát, số lượng phòng nhiều, nhiều tiện ích phục vụ cuộc sống và học tập, giải trí.\n",
            "---------------------------------------------------------------------\n",
            "Trường tôi đã gắn bó nhiều năm. Nhưng năm học ở đây có biết bao kỷ niêm vui có, buồn có, kỳ tích có, cổ tích có. Không thể quên được những năm tháng ở đó. Cuộc sống là không nên hối tiếc các bạn ak. Dài ngắn to nhỏ thành công rực rỡ hay thất bại thảm hại rồi cũng kết thúc. Muốn có ngày nào đo về thăm lại trốn cũ.\n",
            "---------------------------------------------------------------------\n",
            "Trường Đại học Sân khấu – Điện ảnh Hà Nội thuộc hệ thống giáo dục quốc dân được thành lập ngày 17 tháng 12 năm 1980. Trường mang trong mình sứ mạng đào tạo nguồn nhân lực chất lượng cao, bồi dưỡng nhân tài trong các lĩnh vực sân khấu, điện ảnh, nhiếp ảnh, múa, thiết kế mỹ thuật và truyền hình, góp phần xây dựng nền văn hóa Việt Nam và thực hiện thành công các mục tiêu về hội nhập quốc tế.\n",
            "---------------------------------------------------------------------\n",
            "Hanu - nơi mà bạn có thể mặc quần đùi đi học, thoải mái sáng tạo và tự do, không bao giờ phải lo vụ \"đi chùa Thầy\", đi dạo trong trường mà như đi du lịch nước ngoài vì trường vừa đẹp vừa nhiều tây, trai xinh gái đẹp ko kể xiết, nói chung ai đã từng là Hanuer đều không bao giờ hối hận vì quyết định chọn Hanu - i love Hanu\n",
            "---------------------------------------------------------------------\n",
            "Mình có đặt cơm gà nướng và cơm vịt nướng ở đây 1 lần và cảm thấy:. Cơm khá chán.. Gà nướng với vịt nướng nhạt nhẽo :). Canh: mở hộp canh ra thấy có mùi nhựa nhưng mình cứ ăn thử... rồi phải nhổ ra vì hôi đến nỗi không thể nuốt . Và thế là hôm đó ăn cơm thiếu canh, cảm giác khô khốc. Kem tráng miệng: ngon\n",
            "---------------------------------------------------------------------\n",
            "Danh sách hồ sơ thí sinh đăng ký xét tuyển vào trường như thế này các bậc phụ huynh và học sinh không thể tra cứu được. Để tra cứu được dễ dàng mong nhà trường cộng đầy đủ tổng điểm bao gồm điểm ưu tiên khu vực và điểm thi đã nhân hệ số ( môn ngoại ngữ),Chúng tôi rất mong nhà trường lưu tâm.\n",
            "---------------------------------------------------------------------\n",
            "Sinh viên HANU được học tập trong một môi trường hoàn toàn trong sạch với các thầy cô xuất sắc và ngoại ngữ. SV chúng tớ ngoài kiến thức về chuyên ngnhf kinh tế còn rất giỏi ngoại ngữ nữa bởi toàn bộ chương trình học đều bằng giáo trình Mỹ và Úc, học bằng tiengs Anh lun. hehe\n",
            "I'm in relationship with Hanu :p\n",
            "---------------------------------------------------------------------\n",
            "Đào tạo các bậc cử nhân, thạc sỹ, tiến sỹ ngành báo chí học, nghiên cứu lý luận và lịch sử báo chí thế giới và Việt Nam, thực hiện các dự án trong nước và quốc tế về báo chí – truyền thông, đào tạo bồi dưỡng các chức danh và các vị trí công việc của nghề báo chí đáp ứng yêu cầu trong môi trường hội nhập quốc tế và sự phát triển của công nghệ thông tin - truyền thông hiện nay.\n",
            "---------------------------------------------------------------------\n",
            "Học viện ngân hàng, học viện đào tạo các nhân viên hàng đầu về ngân hàng trên cả nước, nơi có lịch sử đào tạo lâu năm trong lĩnh vực kinh tế, là ngành giữ vai trò quan trọng trong thúc đẩy các ngành kinh tế từ nhà nước tới tư nhân, hỗ trợ các hộ kinh doanh cá thể... Là một môi trường rất tốt để cho con cái mình theo đuổi\n",
            "---------------------------------------------------------------------\n",
            "Pr trà hình. Vẽ ra các viễn cảnh màu hồng cho các bé lớp 12 đâm đầu vào rồi bỏ bê khi đã đổ một đống tiền vào và ko thể rút ra. Dịch vụ cực tồi khiến sinh viên phẫn nộ. Tự đề ra mọi quy định và chính sách vô lý miễn sao có lợi về mặt doanh thu và mặc kệ chất lượng giáo dục đi xuống và sinh viên phản đối\n",
            "thi học bổng có rất nhiều gian lận , báo cáo với tuyển sinh thì bị dọa dẫm\n",
            "---------------------------------------------------------------------\n",
            "Là một trường đại học đã có từ lâu. Khuân viên trường rộng rất thoáng mát. Một môi trường năng động đầy sáng tạo. Giúp cho sinh viên có những không gian tự do để sáng tạo . Trường cũng rất quan trọng trong việc lịch sự lễ phép. Có nhiều hoạt động ngoài trời và giúp sinh viên tăng thêm sự đoàn kết và những hoạt động nhóm\n",
            "---------------------------------------------------------------------\n",
            "Pr trà hình. Vẽ ra các viễn cảnh màu hồng cho các bé lớp 12 đâm đầu vào rồi bỏ bê khi đã đổ một đống tiền vào và ko thể rút ra. Dịch vụ cực tồi khiến sinh viên phẫn nộ. Tự đề ra mọi quy định và chính sách vô lý miễn sao có lợi về mặt doanh thu và mặc kệ chất lượng giáo dục đi xuống và sinh viên phản đối\n",
            "---------------------------------------------------------------------\n",
            "Học viện có vai trò quan trọng hàng đầu ngày Mật Mã. Phù hợp với nhiều thí sinh ngành đặc thù. Tọa lạc ở quận Hà Đông. Các bạn sinh viên và học sinh quan tâm về ngôi trường này hoặc chưa biết đến nên tìm hiểu thêm. Nhiều chuyên ngành rất tốt và có thể ứng dụng cả lĩnh vực Nhà nước và Dân sự. Hãy theo học nếu phù hợp. Cho 4 sao vì trường ít quảng bá. Hãy tăng quảng bá để nhận 5 sao nhé.\n",
            "---------------------------------------------------------------------\n",
            "gửi đến các em 97 98 năm sau thi. KMA  là một ngồi trường tuyệt vời dành cho COCC =))\n",
            "các em đừng ảo tưởng danh sách :\"có từ 10 đến 20 chỉ tiêu..........\" nó không dành cho các em đâu..\n",
            "còn học trong nước thì cũng còn thua các trường khác, giáo viên thì toàn quân đội. kỷ luật khắc khe, giáo trình nặng. không phù hợp con gái học ngành này đâu :))\n",
            "---------------------------------------------------------------------\n",
            "Trường có khuôn viên rất đẹp. Ấn tượng ngay từ cổng vào. Đồ sộ và trang trọng. Bên trong khuôn viên được bố trí rất hợp lí, bóng cây ngập tràn. Ngoài ra, còn có một sân bóng phục vụ cho các hoạt động thể dục thể thao của trường. Môi trường tốt cho các bạn sinh viên rèn luyện để trở thành những cảnh sát nhân dân ưu tú.\n",
            "---------------------------------------------------------------------\n",
            "Trường trực thuộc Tổng cục Chính trị Công an Nhân dân có trách nhiệm đào tạo cán bộ An ninh trình độ trên đại học, trình độ đại học và trình độ thấp hơn, bồi dưỡng chuyên môn, nghiệp vụ về An ninh Nhân dân, nghiên cứu khoa học về An ninh nhân dân phục vụ về An ninh Nhân dân, nghiên cứu khoa học về An ninh nhân dân đáp ứng yêu cầu phát triển kinh tế- xã hội.\n",
            "---------------------------------------------------------------------\n",
            "Địa điểm này thường tổ chức các buổi hoà nhạc, các nghệ sỹ biểu diễn độc tấu, song tấu nhiều loại nhạc cụ, trình diễn nhiều thể loại âm nhạc, cũng là nơi thi thố của các thế hệ tương lai...\n",
            "Mới đây được thưởng thức chương trình biểu diễn đỉnh cao của hai tay guitar classic trứ danh Nguyễn Thế An và Trần Tuấn An từ Canada và Mỹ về, gói gọn trong hai từ: Tuyệt vời!\n",
            "---------------------------------------------------------------------\n",
            "Sự giúp đỡ tốt hơn từ một số học sinh rất ngoan và ít bị bắt nạt hơn, sự giúp đỡ tốt từ giáo viên mà khi tôi báo cáo với họ rằng tôi bị bắt nạt, giáo viên sẽ làm ngay bằng cách loại trừ vĩnh viễn kẻ xấu đó\n",
            "\n",
            "So với: trong khi ở trường nam sinh đại học Fulham, nó không tốt như những gì tôi đã đề cập ở đây\n",
            "\n",
            "\n",
            "---------------------------------------------------------------------\n",
            "Em thay truong minh rong va dep nhung em chua quen nen toan bi di lac suot.em tim mai ma khong thay so do truong o dau. Moi chap chung buoc vao hoc vien ,tam hon em nhu moi vao lop 1 vay,rat cam on cac thay co va anh chi sv da chi duong ,xem lich hoc  giup em.Nhung chiec la mua thu sap roi,nhung giot le roi khi chieu hom nho nha ...,mai truong nay se la ngoi nha thu 2 cua em!\n",
            "---------------------------------------------------------------------\n"
          ],
          "name": "stdout"
        }
      ]
    },
    {
      "cell_type": "code",
      "metadata": {
        "id": "WzNP_Wyb8WaL"
      },
      "source": [
        "uni.to_csv('./cleaned_uni.csv', index=False)"
      ],
      "execution_count": null,
      "outputs": []
    },
    {
      "cell_type": "code",
      "metadata": {
        "id": "Kp4OiVtd1BEL"
      },
      "source": [
        ""
      ],
      "execution_count": null,
      "outputs": []
    }
  ]
}